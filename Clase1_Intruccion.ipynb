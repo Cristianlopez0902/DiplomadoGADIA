{
  "nbformat": 4,
  "nbformat_minor": 0,
  "metadata": {
    "colab": {
      "provenance": [],
      "toc_visible": true,
      "authorship_tag": "ABX9TyM5uY7VHLdMOQ2Hj8u2+6MF",
      "include_colab_link": true
    },
    "kernelspec": {
      "name": "python3",
      "display_name": "Python 3"
    },
    "language_info": {
      "name": "python"
    }
  },
  "cells": [
    {
      "cell_type": "markdown",
      "metadata": {
        "id": "view-in-github",
        "colab_type": "text"
      },
      "source": [
        "<a href=\"https://colab.research.google.com/github/Cristianlopez0902/DiplomadoGADIA/blob/main/Clase1_Intruccion.ipynb\" target=\"_parent\"><img src=\"https://colab.research.google.com/assets/colab-badge.svg\" alt=\"Open In Colab\"/></a>"
      ]
    },
    {
      "cell_type": "markdown",
      "source": [
        "**INTRODUCCIÓN A PYTHON**\n",
        "\n",
        "DIPLOMADO EN GOBIERNO Y ANALITICA DE DATOS\n",
        "\n",
        "FUNDACIÓN UNIVERSITARIA CAFAM\n",
        "\n",
        "DOCENTE: NICOLAS MOJICA GOMEZ\n",
        "\n",
        "ESTUDIANTE: CRISTIAN HUMBERTO LOPEZ MUÑOZ\n",
        "\n",
        "\n",
        "\n",
        "---\n",
        "\n",
        "\n"
      ],
      "metadata": {
        "id": "rXG6rCKpqJEd"
      }
    },
    {
      "cell_type": "markdown",
      "source": [
        "## 1. Comentario en los codigos\n",
        "\n",
        "Para comentar codigos en Python existen diferentes formas de crear comentarios, esto nos permite documentar nuestras secuencias de comandos para su analisis y su posterior modificación"
      ],
      "metadata": {
        "id": "WqauLbJpruLI"
      }
    },
    {
      "cell_type": "code",
      "execution_count": 2,
      "metadata": {
        "colab": {
          "base_uri": "https://localhost:8080/"
        },
        "id": "7xj5JwCooshV",
        "outputId": "b928bc02-6e73-42a6-b718-47e73c95ce5b"
      },
      "outputs": [
        {
          "output_type": "stream",
          "name": "stdout",
          "text": [
            "Hola mundo\n"
          ]
        }
      ],
      "source": [
        "#Este comentario es de una sola linea\n",
        "#Python es un programa sensible a las mayusculas y a las minusculas\n",
        "print(\"Hola mundo\")\n"
      ]
    },
    {
      "cell_type": "code",
      "source": [
        "'''\n",
        "Este es un comentario de multiples lineas\n",
        "puede extenderse en varias lineas\n",
        "'''\n",
        "print(\"Hola mundo 2\")"
      ],
      "metadata": {
        "colab": {
          "base_uri": "https://localhost:8080/"
        },
        "id": "UrvizntzvmO6",
        "outputId": "b72ae8a1-cd54-43d3-fcfd-3e7815302bb6"
      },
      "execution_count": 4,
      "outputs": [
        {
          "output_type": "stream",
          "name": "stdout",
          "text": [
            "Hola mundo 2\n"
          ]
        }
      ]
    },
    {
      "cell_type": "markdown",
      "source": [
        "## 2. Variables\n",
        "\n",
        "Una variable es un elemento de un lenguaje de programación que tiene asigando un valor determinado\n"
      ],
      "metadata": {
        "id": "vpUsdLq5wTZY"
      }
    },
    {
      "cell_type": "code",
      "source": [
        "## Para crear una variable en Python, se le debe proporcionar un nombre y se le debe asignar un valor usando un \"=\"\n",
        "var=\"Hola mundo\"\n",
        "print(var)"
      ],
      "metadata": {
        "colab": {
          "base_uri": "https://localhost:8080/"
        },
        "id": "22QUhollwRrV",
        "outputId": "82d02566-f136-44ed-c1ae-5519c70501c3"
      },
      "execution_count": 5,
      "outputs": [
        {
          "output_type": "stream",
          "name": "stdout",
          "text": [
            "Hola mundo\n"
          ]
        }
      ]
    },
    {
      "cell_type": "code",
      "source": [
        "## Las variables pueden cambiar a lo largo del programa en Python\n",
        "var=\"Adios mundo\"\n",
        "print(var)"
      ],
      "metadata": {
        "colab": {
          "base_uri": "https://localhost:8080/"
        },
        "id": "EZBX9X63xp0O",
        "outputId": "3c7e10ee-da03-4f85-fad9-0289895d5620"
      },
      "execution_count": 7,
      "outputs": [
        {
          "output_type": "stream",
          "name": "stdout",
          "text": [
            "Adios mundo\n"
          ]
        }
      ]
    },
    {
      "cell_type": "code",
      "source": [
        "## Las variables en Python son sensibles a las mayusculas y a las minusculas\n"
      ],
      "metadata": {
        "id": "UE9i3B1mx_hV"
      },
      "execution_count": null,
      "outputs": []
    },
    {
      "cell_type": "markdown",
      "source": [
        "## 3. Tipos de datos\n"
      ],
      "metadata": {
        "id": "IGuZ0yYV4weU"
      }
    },
    {
      "cell_type": "code",
      "source": [
        "# Tipos de datos numericos\n",
        "entero=42\n",
        "# En la mayor parte de lenguajes de programación los enteros son representados con \"int\"\n"
      ],
      "metadata": {
        "id": "LS0RHCl_5TBl"
      },
      "execution_count": 8,
      "outputs": []
    },
    {
      "cell_type": "code",
      "source": [
        "# Tipo de dato flotante\n",
        "flotante=3.14151"
      ],
      "metadata": {
        "id": "atDVdHqy5qv_"
      },
      "execution_count": 9,
      "outputs": []
    },
    {
      "cell_type": "code",
      "source": [
        "# Conversión de tipos de datos\n",
        "# Convertir un flotante a un numero entero\n",
        "entero=int(3.14)\n",
        "print(entero)"
      ],
      "metadata": {
        "colab": {
          "base_uri": "https://localhost:8080/"
        },
        "id": "EX3D2BMF6GHG",
        "outputId": "14a66776-799d-4f40-e0f2-49d3160e46d1"
      },
      "execution_count": 12,
      "outputs": [
        {
          "output_type": "stream",
          "name": "stdout",
          "text": [
            "3\n"
          ]
        }
      ]
    },
    {
      "cell_type": "code",
      "source": [
        "# Convertir entero a flotante\n",
        "flotante=float(5)\n",
        "print(flotante)"
      ],
      "metadata": {
        "colab": {
          "base_uri": "https://localhost:8080/"
        },
        "id": "fflj_sS66yua",
        "outputId": "81a8bfb9-2df0-46d6-da44-6618bad79150"
      },
      "execution_count": 14,
      "outputs": [
        {
          "output_type": "stream",
          "name": "stdout",
          "text": [
            "5.0\n"
          ]
        }
      ]
    },
    {
      "cell_type": "markdown",
      "source": [
        "## 4. Operadores aritmeticos\n",
        "\n",
        "Los operadores matematicos se utilizan para realizar operaciones comunes como la adicion, sustracción y multiplicación, entre otros\n"
      ],
      "metadata": {
        "id": "Z38lUk287k2m"
      }
    },
    {
      "cell_type": "code",
      "source": [
        "# Suma\n",
        "a=10\n",
        "b=5\n",
        "print(a+b)"
      ],
      "metadata": {
        "colab": {
          "base_uri": "https://localhost:8080/"
        },
        "id": "uurv8Xt07Px7",
        "outputId": "3aebc400-de99-45dd-8cd2-5ae905cb82d3"
      },
      "execution_count": 15,
      "outputs": [
        {
          "output_type": "stream",
          "name": "stdout",
          "text": [
            "15\n"
          ]
        }
      ]
    },
    {
      "cell_type": "code",
      "source": [
        "# Resta\n",
        "c=a-b\n",
        "print(c)\n"
      ],
      "metadata": {
        "colab": {
          "base_uri": "https://localhost:8080/"
        },
        "id": "iWbo95VP8Wc2",
        "outputId": "ba7e6eb6-8f70-4c3a-acfc-5bf688e16711"
      },
      "execution_count": 17,
      "outputs": [
        {
          "output_type": "stream",
          "name": "stdout",
          "text": [
            "5\n"
          ]
        }
      ]
    },
    {
      "cell_type": "code",
      "source": [
        "# Multiplicacion\n",
        "d=a*b\n",
        "print(d)"
      ],
      "metadata": {
        "colab": {
          "base_uri": "https://localhost:8080/"
        },
        "id": "T639V_DM8eZt",
        "outputId": "9f820c22-e830-452b-d2f6-22fb2f7a7667"
      },
      "execution_count": 18,
      "outputs": [
        {
          "output_type": "stream",
          "name": "stdout",
          "text": [
            "50\n"
          ]
        }
      ]
    },
    {
      "cell_type": "code",
      "source": [
        "# Division\n",
        "e=a/b\n",
        "print(e)"
      ],
      "metadata": {
        "colab": {
          "base_uri": "https://localhost:8080/"
        },
        "id": "Ld9mxhsd8pXI",
        "outputId": "5f8838af-2750-43e5-aefb-41113d2ee876"
      },
      "execution_count": 19,
      "outputs": [
        {
          "output_type": "stream",
          "name": "stdout",
          "text": [
            "2.0\n"
          ]
        }
      ]
    },
    {
      "cell_type": "code",
      "source": [
        "# Division entera\n",
        "print(a//b)"
      ],
      "metadata": {
        "colab": {
          "base_uri": "https://localhost:8080/"
        },
        "id": "11tcU0mDAvFe",
        "outputId": "65979597-8d09-4d73-eba7-7d43380c9f3f"
      },
      "execution_count": 20,
      "outputs": [
        {
          "output_type": "stream",
          "name": "stdout",
          "text": [
            "2\n"
          ]
        }
      ]
    },
    {
      "cell_type": "code",
      "source": [
        "# Modulo, residuo de una operacion\n",
        "print(a%b)"
      ],
      "metadata": {
        "colab": {
          "base_uri": "https://localhost:8080/"
        },
        "id": "m47avrqBBDQS",
        "outputId": "1ec49fc1-180c-4c6e-d633-222ddd35b17d"
      },
      "execution_count": 21,
      "outputs": [
        {
          "output_type": "stream",
          "name": "stdout",
          "text": [
            "0\n"
          ]
        }
      ]
    },
    {
      "cell_type": "code",
      "source": [
        "# Exponenciacion\n",
        "print(a**b)"
      ],
      "metadata": {
        "colab": {
          "base_uri": "https://localhost:8080/"
        },
        "id": "RRMWWzTDBcEp",
        "outputId": "c2fedf33-53a4-4d7d-9c3e-9f050ec4782a"
      },
      "execution_count": 22,
      "outputs": [
        {
          "output_type": "stream",
          "name": "stdout",
          "text": [
            "100000\n"
          ]
        }
      ]
    },
    {
      "cell_type": "code",
      "source": [
        "# Asignación compuesta\n",
        "a+=b\n",
        "print(a)"
      ],
      "metadata": {
        "colab": {
          "base_uri": "https://localhost:8080/"
        },
        "id": "fElSiELTBm0S",
        "outputId": "15a30bd9-2f12-4772-ff9f-5be57f7bb2ee"
      },
      "execution_count": 23,
      "outputs": [
        {
          "output_type": "stream",
          "name": "stdout",
          "text": [
            "15\n"
          ]
        }
      ]
    },
    {
      "cell_type": "code",
      "source": [
        "print(a)"
      ],
      "metadata": {
        "colab": {
          "base_uri": "https://localhost:8080/"
        },
        "id": "Fj0_09iCB50M",
        "outputId": "e22a01b7-8a8e-4796-da6e-dbebb780c55e"
      },
      "execution_count": 24,
      "outputs": [
        {
          "output_type": "stream",
          "name": "stdout",
          "text": [
            "15\n"
          ]
        }
      ]
    },
    {
      "cell_type": "code",
      "source": [
        "a-=b\n",
        "print(a)"
      ],
      "metadata": {
        "colab": {
          "base_uri": "https://localhost:8080/"
        },
        "id": "HohdazEECb7c",
        "outputId": "61fc3709-32f1-4379-c1f4-d8ab86abbb44"
      },
      "execution_count": 25,
      "outputs": [
        {
          "output_type": "stream",
          "name": "stdout",
          "text": [
            "10\n"
          ]
        }
      ]
    },
    {
      "cell_type": "code",
      "source": [
        "# Redondeo\n",
        "var4=3.1410\n",
        "print(round(var4,2))"
      ],
      "metadata": {
        "colab": {
          "base_uri": "https://localhost:8080/"
        },
        "id": "rEWfSsa9CfKH",
        "outputId": "f43a3ba8-1b53-484e-bc3b-0d3440f4b29d"
      },
      "execution_count": 26,
      "outputs": [
        {
          "output_type": "stream",
          "name": "stdout",
          "text": [
            "3.14\n"
          ]
        }
      ]
    },
    {
      "cell_type": "code",
      "source": [
        "# Hasta aqui llega el codigo"
      ],
      "metadata": {
        "id": "wH2PjUD5Htbk"
      },
      "execution_count": null,
      "outputs": []
    },
    {
      "cell_type": "markdown",
      "source": [
        "## 5. Ejercicios"
      ],
      "metadata": {
        "id": "o_9QjKfvEXcM"
      }
    },
    {
      "cell_type": "code",
      "source": [
        "# Suma\n",
        "a=10\n",
        "b=3\n",
        "suma=(a+b)\n",
        "print(suma)"
      ],
      "metadata": {
        "colab": {
          "base_uri": "https://localhost:8080/"
        },
        "id": "gMWBAOuwDSyt",
        "outputId": "71e40e0a-385a-4d44-9514-7528ce07a0e0"
      },
      "execution_count": 28,
      "outputs": [
        {
          "output_type": "stream",
          "name": "stdout",
          "text": [
            "13\n"
          ]
        }
      ]
    },
    {
      "cell_type": "code",
      "source": [
        "# Resta\n",
        "resta=(a-b)\n",
        "print(resta)\n"
      ],
      "metadata": {
        "colab": {
          "base_uri": "https://localhost:8080/"
        },
        "id": "-qr0fxRXITxr",
        "outputId": "09422d6f-8bc7-41c8-f943-97b4008c6d93"
      },
      "execution_count": 31,
      "outputs": [
        {
          "output_type": "stream",
          "name": "stdout",
          "text": [
            "7\n"
          ]
        }
      ]
    },
    {
      "cell_type": "code",
      "source": [
        "# Multiplicación\n",
        "multiplicacion=(a*b)\n",
        "print(multiplicacion)"
      ],
      "metadata": {
        "colab": {
          "base_uri": "https://localhost:8080/"
        },
        "id": "Lp9TgBLIIbYf",
        "outputId": "65bcc1b4-e714-4d81-de5c-513d405cf998"
      },
      "execution_count": 32,
      "outputs": [
        {
          "output_type": "stream",
          "name": "stdout",
          "text": [
            "30\n"
          ]
        }
      ]
    },
    {
      "cell_type": "code",
      "source": [
        "# División\n",
        "division=(a/b)\n",
        "print(division)"
      ],
      "metadata": {
        "colab": {
          "base_uri": "https://localhost:8080/"
        },
        "id": "4gKRkgU4I_lB",
        "outputId": "a4dfc24b-ccbc-4682-cced-ce453afb8225"
      },
      "execution_count": 33,
      "outputs": [
        {
          "output_type": "stream",
          "name": "stdout",
          "text": [
            "3.3333333333333335\n"
          ]
        }
      ]
    },
    {
      "cell_type": "code",
      "source": [
        "# Modulo\n",
        "modulo=(a%b)\n",
        "print(modulo)"
      ],
      "metadata": {
        "colab": {
          "base_uri": "https://localhost:8080/"
        },
        "id": "7gkuNZFAJL7Y",
        "outputId": "fd13835b-b354-473e-e81f-98f1bffc3177"
      },
      "execution_count": 34,
      "outputs": [
        {
          "output_type": "stream",
          "name": "stdout",
          "text": [
            "1\n"
          ]
        }
      ]
    },
    {
      "cell_type": "code",
      "source": [
        "# Exponenciación\n",
        "potencia=(a**b)\n",
        "print(potencia)"
      ],
      "metadata": {
        "colab": {
          "base_uri": "https://localhost:8080/"
        },
        "id": "ENok4opdJfSp",
        "outputId": "329d8f3a-6f34-457c-ae93-a9e976ee6306"
      },
      "execution_count": 35,
      "outputs": [
        {
          "output_type": "stream",
          "name": "stdout",
          "text": [
            "1000\n"
          ]
        }
      ]
    },
    {
      "cell_type": "code",
      "source": [
        "# División entera\n",
        "divisionentera=(a//b)\n",
        "print(divisionentera)"
      ],
      "metadata": {
        "colab": {
          "base_uri": "https://localhost:8080/"
        },
        "id": "gMQTbFN6Jx-3",
        "outputId": "1f0f6a44-e75d-48b8-8ee2-d91633cec853"
      },
      "execution_count": 38,
      "outputs": [
        {
          "output_type": "stream",
          "name": "stdout",
          "text": [
            "3\n"
          ]
        }
      ]
    },
    {
      "cell_type": "code",
      "source": [],
      "metadata": {
        "id": "SEv4QyykKDmV"
      },
      "execution_count": null,
      "outputs": []
    }
  ]
}