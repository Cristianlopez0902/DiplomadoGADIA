{
  "nbformat": 4,
  "nbformat_minor": 0,
  "metadata": {
    "colab": {
      "provenance": [],
      "authorship_tag": "ABX9TyOw0IEQfrIGn8/8XHn+O90f",
      "include_colab_link": true
    },
    "kernelspec": {
      "name": "python3",
      "display_name": "Python 3"
    },
    "language_info": {
      "name": "python"
    }
  },
  "cells": [
    {
      "cell_type": "markdown",
      "metadata": {
        "id": "view-in-github",
        "colab_type": "text"
      },
      "source": [
        "<a href=\"https://colab.research.google.com/github/Cristianlopez0902/DiplomadoGADIA/blob/main/Condicionales_Funciones.ipynb\" target=\"_parent\"><img src=\"https://colab.research.google.com/assets/colab-badge.svg\" alt=\"Open In Colab\"/></a>"
      ]
    },
    {
      "cell_type": "markdown",
      "source": [
        "CONDICIONALES, FUNCIONES Y MANEJO DE ERRORES\n",
        "\n",
        "DIPLOMADO EN GOBIERNO Y ANALITICA DE DATOS\n",
        "\n",
        "FUNDACIÓN UNIVERSITARIA CAFAM\n",
        "\n",
        "DOCENTE: NICOLAS MOJICA GOMEZ\n",
        "\n",
        "ESTUDIANTE: CRISTIAN HUMBERTO LOPEZ MUÑOZ"
      ],
      "metadata": {
        "id": "PtK83DaXbdsq"
      }
    },
    {
      "cell_type": "code",
      "execution_count": 2,
      "metadata": {
        "colab": {
          "base_uri": "https://localhost:8080/"
        },
        "id": "oJCfxs8GbDy6",
        "outputId": "5b92ff8c-f79a-47ad-e3d8-adb712a4d5a3"
      },
      "outputs": [
        {
          "output_type": "stream",
          "name": "stdout",
          "text": [
            "Eres mayor de edad\n"
          ]
        }
      ],
      "source": [
        "## Las condicionales en PYTHON permiten tomar decisiones basadas en ciertas condiciones, son fundamentales para cpontrolar el flujo  de ejecucion\n",
        "edad = 18\n",
        "# crear una condicional que identifique si la persona es mayor o menor de edad\n",
        "if edad <18 :\n",
        "  print(\"Eres menor de edad\")\n",
        "else :\n",
        "  print(\"Eres mayor de edad\")"
      ]
    },
    {
      "cell_type": "code",
      "source": [
        "# Generar un programa que clasifique la edad introducida por el usuario entre mayor y menor de edad\n",
        "edad = int(input(\"Por favor ingresa tu edad\"))\n",
        "if edad <18 :\n",
        "  print(\"Eres menor de edad\")\n",
        "else :\n",
        "  print(\"Eres mayor de edad\")"
      ],
      "metadata": {
        "colab": {
          "base_uri": "https://localhost:8080/"
        },
        "id": "4OBaNINBb9nn",
        "outputId": "aba18092-7798-4daa-af9d-c5cadd7e38fa"
      },
      "execution_count": 4,
      "outputs": [
        {
          "output_type": "stream",
          "name": "stdout",
          "text": [
            "Por favor ingresa tu edad 30\n",
            "Eres mayor de edad\n"
          ]
        }
      ]
    },
    {
      "cell_type": "code",
      "source": [
        "# Construya un programa que al ingrdsar la mota el usuario lo clasifique en :\n",
        "# No aprobado <60, >=90 Clasificacion A, >=80 Clasificacion B, otro Clasificacion C\n",
        "nota = int(input(\"Ingrese nota\"))\n",
        "if nota >=60:\n",
        "  if nota >=90 :\n",
        "    print(\"Clasificacion A\")\n",
        "  elif nota >=80 :\n",
        "    print(\"Clasificacion B\")\n",
        "  else :\n",
        "    print(\"Clasificacion C\")\n",
        "else :\n",
        "  print(\"No aprobado\")"
      ],
      "metadata": {
        "colab": {
          "base_uri": "https://localhost:8080/"
        },
        "id": "bkM5Twtddh4g",
        "outputId": "4bc76547-a609-401b-c46a-ef11785da34e"
      },
      "execution_count": 5,
      "outputs": [
        {
          "output_type": "stream",
          "name": "stdout",
          "text": [
            "Ingrese nota 70\n",
            "Clasificacion C\n"
          ]
        }
      ]
    },
    {
      "cell_type": "code",
      "source": [
        "\"\"\"\n",
        "Comparaciones\n",
        "Las condiciones en las sentencias condicionales suelen involucrar operadores de comparación:\n",
        "- == (igual a)\n",
        "- != (diferente de)\n",
        "- > (mayor que)\n",
        "- < (menor que)\n",
        "- >= (mayor o igual que)\n",
        "- <= (menor o igual que)\n",
        "\"\"\""
      ],
      "metadata": {
        "colab": {
          "base_uri": "https://localhost:8080/",
          "height": 54
        },
        "id": "FCoj96GAhQ5Q",
        "outputId": "c4bc3b5a-f0c2-407e-f13a-96f7f1beacf7"
      },
      "execution_count": 9,
      "outputs": [
        {
          "output_type": "execute_result",
          "data": {
            "text/plain": [
              "'\\nComparaciones\\nLas condiciones en las sentencias condicionales suelen involucrar operadores de comparación:\\n- == (igual a)\\n- != (diferente de)\\n- > (mayor que)\\n- < (menor que)\\n- >= (mayor o igual que)\\n- <= (menor o igual que)\\n'"
            ],
            "application/vnd.google.colaboratory.intrinsic+json": {
              "type": "string"
            }
          },
          "metadata": {},
          "execution_count": 9
        }
      ]
    },
    {
      "cell_type": "code",
      "source": [
        "# Escribe un programa que verifique si un número ingresado por el usuario es par o impar.\n",
        "num = int(input(\"Ingrese su numero\"))\n",
        "if num%2 == 0 :\n",
        "  print(\"Numero par\")\n",
        "else :\n",
        "  print(\"Numero inpar\")\n"
      ],
      "metadata": {
        "colab": {
          "base_uri": "https://localhost:8080/"
        },
        "id": "3dyzXzuNip4B",
        "outputId": "b2f042ac-f381-45ba-97e4-af90b5856847"
      },
      "execution_count": 8,
      "outputs": [
        {
          "output_type": "stream",
          "name": "stdout",
          "text": [
            "Ingrese su numero 8\n",
            "Numero par\n"
          ]
        }
      ]
    },
    {
      "cell_type": "code",
      "source": [
        "# Crea un programa que lea dos números y determine cuál es mayor, cuál es menor o si ambos son iguales.\n",
        "num1 = int(input(\"-> Ingrese el primer número: \"))\n",
        "num2 = int(input(\"-> Ingrese el segundo número: \"))\n",
        "\n",
        "if num1 != num2:\n",
        "\n",
        "  if num1 > num2:\n",
        "    print(f\"// El numero mayor es: {num1}\")\n",
        "  else:\n",
        "    print(f\"// El numero mayor es: {num2}\")\n",
        "\n",
        "else:\n",
        "  print(f\"// Los dos numeros {num1} y {num2} son iguales\")"
      ],
      "metadata": {
        "colab": {
          "base_uri": "https://localhost:8080/"
        },
        "id": "gPVKjJsDj2ju",
        "outputId": "0b0cdb1e-bc47-46df-f36d-674e1e2035b3"
      },
      "execution_count": 11,
      "outputs": [
        {
          "output_type": "stream",
          "name": "stdout",
          "text": [
            "-> Ingrese el primer número:  4\n",
            "-> Ingrese el segundo número:  3\n",
            "// El numero mayor es: 4\n"
          ]
        }
      ]
    },
    {
      "cell_type": "code",
      "source": [
        "# Escribe un programa que clasifique la edad en diferentes categorías: Niño (0-12 años), Adolescente (13-17 años), Adulto (18-64 años) y Anciano (65 años o más).\n",
        "edad = int(input(\"Ingrese edad\"))\n",
        "if edad >=13:\n",
        "  if edad >=65 :\n",
        "    print(\"Anciano\")\n",
        "  elif edad >=18 :\n",
        "    print(\"Adulto\")\n",
        "  else :\n",
        "    print(\"Adolecente\")\n",
        "else :\n",
        "  print(\"Niño\")"
      ],
      "metadata": {
        "colab": {
          "base_uri": "https://localhost:8080/"
        },
        "id": "tRs6kfiEl9gY",
        "outputId": "f0acd364-afa8-4473-9ac7-c883bfeed910"
      },
      "execution_count": 16,
      "outputs": [
        {
          "output_type": "stream",
          "name": "stdout",
          "text": [
            "Ingrese edad 30\n",
            "Adulto\n"
          ]
        }
      ]
    },
    {
      "cell_type": "code",
      "source": [],
      "metadata": {
        "id": "bAmANFo8rBlD"
      },
      "execution_count": null,
      "outputs": []
    }
  ]
}